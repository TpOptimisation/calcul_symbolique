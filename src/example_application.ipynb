{
 "cells": [
  {
   "cell_type": "code",
   "execution_count": 3,
   "metadata": {},
   "outputs": [
    {
     "name": "stdout",
     "output_type": "stream",
     "text": [
      "f'(x) = 3*x**2 - 12*x + 11\n"
     ]
    }
   ],
   "source": [
    "import sympy as sp \n",
    "x = sp.symbols('x')\n",
    "\n",
    "# Définition d'une fonction\n",
    "f = x**3 - 6*x**2 + 11*x - 6\n",
    "\n",
    "# Dérivée\n",
    "f_prime = sp.diff(f, x)\n",
    "print(\"f'(x) =\", f_prime)"
   ]
  },
  {
   "cell_type": "code",
   "execution_count": 4,
   "metadata": {},
   "outputs": [
    {
     "name": "stdout",
     "output_type": "stream",
     "text": [
      "Points critiques: [2 - sqrt(3)/3, sqrt(3)/3 + 2]\n"
     ]
    }
   ],
   "source": [
    "#points critiques \n",
    "crit_points = sp.solve(f_prime, x)\n",
    "print(\"Points critiques:\", crit_points)"
   ]
  },
  {
   "cell_type": "code",
   "execution_count": 5,
   "metadata": {},
   "outputs": [
    {
     "name": "stdout",
     "output_type": "stream",
     "text": [
      "Racines de f(x): [1, 2, 3]\n"
     ]
    }
   ],
   "source": [
    "#racine\n",
    "roots = sp.solve(f, x)\n",
    "print(\"Racines de f(x):\", roots)"
   ]
  },
  {
   "cell_type": "code",
   "execution_count": 6,
   "metadata": {},
   "outputs": [
    {
     "name": "stdout",
     "output_type": "stream",
     "text": [
      "∫f(x)dx = x**4/4 - 2*x**3 + 11*x**2/2 - 6*x\n"
     ]
    }
   ],
   "source": [
    "# Intégrale de f(x)\n",
    "integrale = sp.integrate(f, x)\n",
    "print(\"∫f(x)dx =\", integrale)"
   ]
  },
  {
   "cell_type": "code",
   "execution_count": 9,
   "metadata": {},
   "outputs": [
    {
     "name": "stdout",
     "output_type": "stream",
     "text": [
      " On a la fonction : x**3 - 6*x**2 + 11*x - 6\n",
      "Dérivée : 3*x**2 - 12*x + 11\n",
      "Points critiques : [2 - sqrt(3)/3, sqrt(3)/3 + 2]\n",
      "Racines : [1, 2, 3]\n",
      "Intégrale : x**4/4 - 2*x**3 + 11*x**2/2 - 6*x\n"
     ]
    }
   ],
   "source": [
    "print(\"On a la fonction :\", f) \n",
    "print(\"Dérivée :\", f_prime) \n",
    "print(\"Points critiques :\", crit_points)\n",
    "print(\"Racines :\", roots) \n",
    "print(\"Intégrale :\", integrale)"
   ]
  },
  {
   "cell_type": "code",
   "execution_count": null,
   "metadata": {},
   "outputs": [],
   "source": []
  }
 ],
 "metadata": {
  "kernelspec": {
   "display_name": "Python 3",
   "language": "python",
   "name": "python3"
  },
  "language_info": {
   "codemirror_mode": {
    "name": "ipython",
    "version": 3
   },
   "file_extension": ".py",
   "mimetype": "text/x-python",
   "name": "python",
   "nbconvert_exporter": "python",
   "pygments_lexer": "ipython3",
   "version": "3.10.10"
  }
 },
 "nbformat": 4,
 "nbformat_minor": 2
}
